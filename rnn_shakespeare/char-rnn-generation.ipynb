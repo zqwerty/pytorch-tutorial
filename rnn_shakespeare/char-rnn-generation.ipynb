{
 "cells": [
  {
   "cell_type": "markdown",
   "metadata": {},
   "source": [
    "## [Practical PyTorch: Generating Shakespeare with a Character-Level RNN](https://github.com/spro/practical-pytorch/blob/master/char-rnn-generation/char-rnn-generation.ipynb)\n",
    "\n",
    "## Prepare data\n",
    "\n",
    "The file we are using is a plain text file. We turn any potential unicode characters into plain ASCII by using the unidecode package (which you can install via pip or conda).\n"
   ]
  },
  {
   "cell_type": "code",
   "execution_count": 1,
   "metadata": {},
   "outputs": [
    {
     "name": "stdout",
     "output_type": "stream",
     "text": [
      "file_len = 1115394\n"
     ]
    }
   ],
   "source": [
    "import unidecode\n",
    "import string\n",
    "import random\n",
    "import re\n",
    "\n",
    "all_characters = string.printable\n",
    "n_characters = len(all_characters)\n",
    "\n",
    "file = unidecode.unidecode(open('../data/shakespeare.txt').read())\n",
    "file_len = len(file)\n",
    "print('file_len =', file_len)"
   ]
  },
  {
   "cell_type": "code",
   "execution_count": 2,
   "metadata": {},
   "outputs": [
    {
     "name": "stdout",
     "output_type": "stream",
     "text": [
      "\n",
      "Come, gentlemen, let's all go visit him:\n",
      "Pray God we may make haste, and come too late!\n",
      "\n",
      "All:\n",
      "Amen.\n",
      "\n",
      "JOHN OF GAUNT:\n",
      "Will the king come, that I may breathe my last\n",
      "In wholesome counsel to his unstaid y\n"
     ]
    }
   ],
   "source": [
    "chunk_len = 200\n",
    "\n",
    "def random_chunk():\n",
    "    start_index = random.randint(0, file_len - chunk_len)\n",
    "    end_index = start_index + chunk_len + 1\n",
    "    return file[start_index:end_index]\n",
    "\n",
    "print(random_chunk())"
   ]
  },
  {
   "cell_type": "markdown",
   "metadata": {},
   "source": [
    "## Build the Model\n",
    "\n",
    "This model will take as input the character for step $t_{-1}$ and is expected to output the next character $t$. There are three layers - one linear layer that encodes the input character into an internal state, one GRU layer (which may itself have multiple layers) that operates on that internal state and a hidden state, and a decoder layer that outputs the probability distribution."
   ]
  },
  {
   "cell_type": "code",
   "execution_count": 3,
   "metadata": {
    "collapsed": true
   },
   "outputs": [],
   "source": [
    "import torch\n",
    "import torch.nn as nn\n",
    "from torch.autograd import Variable\n",
    "\n",
    "class RNN(nn.Module):\n",
    "    def __init__(self, input_size, embed_size, hidden_size, output_size, n_layers=1):\n",
    "        super(RNN, self).__init__()\n",
    "        self.input_size = input_size\n",
    "        self.embed_size = embed_size\n",
    "        self.hidden_size = hidden_size\n",
    "        self.output_size = output_size\n",
    "        self.n_layers = n_layers\n",
    "        \n",
    "        self.encoder = nn.Embedding(input_size, embed_size)\n",
    "        self.gru = nn.GRU(embed_size, hidden_size, n_layers)\n",
    "        self.decoder = nn.Linear(hidden_size, output_size)\n",
    "        \n",
    "    def forward(self, input, hidden): # one char manually \n",
    "        input = self.encoder(input.view(1,-1)) # batch_size=1, input_size\n",
    "        \n",
    "        # GRU input (seq_len, batch, input_size): seq_len=1,batch=1\n",
    "        output, hidden = self.gru(input.view(1, 1, -1), hidden)\n",
    "        \n",
    "        # GRU output (seq_len, batch, hidden_size * num_directions)\n",
    "        output = self.decoder(output.view(1,-1))\n",
    "        return output, hidden\n",
    "    \n",
    "    def init_hidden(self):\n",
    "        # GRU init hidden \n",
    "        # h_0 (num_layers * num_directions, batch, hidden_size): \n",
    "        # tensor containing the initial hidden state \n",
    "        # for each element in the batch. \n",
    "        # Defaults to zero if not provided.\n",
    "        return Variable(torch.zeros(self.n_layers,1,self.hidden_size))"
   ]
  },
  {
   "cell_type": "markdown",
   "metadata": {},
   "source": [
    "## Inputs and Targets\n",
    "Each chunk will be turned into a tensor, specifically a LongTensor (used for integer values), by looping through the characters of the string and looking up the index of each character in all\\_characters."
   ]
  },
  {
   "cell_type": "code",
   "execution_count": 4,
   "metadata": {},
   "outputs": [
    {
     "name": "stdout",
     "output_type": "stream",
     "text": [
      "100\n",
      "0123456789abcdefghijklmnopqrstuvwxyzABCDEFGHIJKLMNOPQRSTUVWXYZ!\"#$%&'()*+,-./:;<=>?@[\\]^_`{|}~ \t\n",
      "\u000b",
      "\f",
      "\n",
      "Variable containing:\n",
      " 10\n",
      " 11\n",
      " 12\n",
      " 39\n",
      " 40\n",
      " 41\n",
      "[torch.LongTensor of size 6]\n",
      "\n"
     ]
    }
   ],
   "source": [
    "# Turn string into list of longs\n",
    "def char_tensor(string):\n",
    "    tensor = torch.zeros(len(string)).long()\n",
    "    for c in range(len(string)):\n",
    "        tensor[c] = all_characters.index(string[c])\n",
    "    return Variable(tensor)\n",
    "\n",
    "print(n_characters) # = vocab_size = 100\n",
    "print(all_characters)\n",
    "print(char_tensor('abcDEF'))"
   ]
  },
  {
   "cell_type": "markdown",
   "metadata": {},
   "source": [
    "Finally we can assemble a pair of input and target tensors for training, from a random chunk. The input will be all characters up to the last, and the target will be all characters from the first. So if our chunk is \"abc\" the input will correspond to \"ab\" while the target is \"bc\"."
   ]
  },
  {
   "cell_type": "code",
   "execution_count": 5,
   "metadata": {
    "collapsed": true
   },
   "outputs": [],
   "source": [
    "def random_training_set():    \n",
    "    chunk = random_chunk()\n",
    "    inp = char_tensor(chunk[:-1])\n",
    "    target = char_tensor(chunk[1:])\n",
    "    return inp, target"
   ]
  },
  {
   "cell_type": "markdown",
   "metadata": {},
   "source": [
    "## Evaluating\n",
    "To evaluate the network we will feed one character at a time, use the outputs of the network as a probability distribution for the next character, and repeat. To start generation we pass a priming string to start building up the hidden state, from which we then generate one character at a time."
   ]
  },
  {
   "cell_type": "code",
   "execution_count": 6,
   "metadata": {
    "collapsed": true
   },
   "outputs": [],
   "source": [
    "def evaluate(prime_str='A', predict_len=100, temperature=0.8):\n",
    "    hidden = decoder.init_hidden()\n",
    "    prime_input = char_tensor(prime_str)\n",
    "    predicted = prime_str\n",
    "    \n",
    "    for p in range(len(prime_str)-1):\n",
    "        _, hidden = decoder(prime_input[p], hidden)\n",
    "    inp = prime_input[-1]\n",
    "    \n",
    "    for p in range(predict_len):\n",
    "        output, hidden = decoder(inp, hidden)\n",
    "        \n",
    "        # sample from multinomial distribution of output\n",
    "        output_dist = output.data.view(-1).div(temperature).exp() # no need to sum to 1\n",
    "        top_i = torch.multinomial(output_dist,1)[0]\n",
    "        \n",
    "        # Add predicted character to string and use as next input\n",
    "        predicted_char = all_characters[top_i]\n",
    "        predicted += predicted_char\n",
    "        inp = char_tensor(predicted_char)\n",
    "    \n",
    "    return predicted"
   ]
  },
  {
   "cell_type": "markdown",
   "metadata": {},
   "source": [
    "## Training\n"
   ]
  },
  {
   "cell_type": "code",
   "execution_count": 7,
   "metadata": {
    "collapsed": true
   },
   "outputs": [],
   "source": [
    "import time, math\n",
    "\n",
    "def time_since(since):\n",
    "    s = time.time() - since\n",
    "    m = math.floor(s / 60)\n",
    "    s -= m * 60\n",
    "    return '%dm %ds' % (m, s)\n",
    "\n",
    "def train(inp, target):\n",
    "    hidden = decoder.init_hidden()\n",
    "    decoder.zero_grad()\n",
    "    loss = 0\n",
    "    \n",
    "    for c in range(chunk_len):\n",
    "        output, hidden = decoder(inp[c], hidden)\n",
    "        loss += criterion(output, target[c])\n",
    "    \n",
    "    loss.backward()\n",
    "    decoder_optimizer.step()\n",
    "    \n",
    "    return loss.data[0]/chunk_len"
   ]
  },
  {
   "cell_type": "code",
   "execution_count": 9,
   "metadata": {
    "scrolled": false
   },
   "outputs": [
    {
     "name": "stdout",
     "output_type": "stream",
     "text": [
      "[0m 51s (100 5%) 2.4062]\n",
      "Whe, the that thoung\n",
      "Whe and lou got heat I shad thif-upeSr shy fase ar stiendt wit we gale ond Whe ro \n",
      "\n",
      "[1m 43s (200 10%) 2.1430]\n",
      "Whe at be a liding dow med shos cor wirimy my in porsied,\n",
      "Herpin dese; wod hand dimad inte me and ates \n",
      "\n",
      "[2m 36s (300 15%) 2.0886]\n",
      "Why Muct!\n",
      "Or, excle carl's, there's wilt my scaos feave hear\n",
      "'ever ustid lich the mar and the sapes\n",
      "\n",
      "M \n",
      "\n",
      "[3m 27s (400 20%) 1.7978]\n",
      "Whord is parriendeld:\n",
      "As the cond. 3 abeutenten heporemrer--\n",
      "The carden in day didter and reded ad you \n",
      "\n",
      "[4m 18s (500 25%) 1.7155]\n",
      "Where!\n",
      "Dous cown soole fored man's proan and the'ers food my le?\n",
      "\n",
      "ARETES:\n",
      "And bacef lo demald foolly n \n",
      "\n",
      "[5m 10s (600 30%) 1.9935]\n",
      "Whell thy beforeid shall thy mreceemers this my see bry why speath.\n",
      "Nob's we plate. shall sange\n",
      "Thigh, \n",
      "\n",
      "[6m 2s (700 35%) 1.9168]\n",
      "Why Andatter so have or and he cair, not and ome, so bothy ard,\n",
      "Them on deagtl, and mes say chister, d \n",
      "\n",
      "[6m 54s (800 40%) 1.8645]\n",
      "Wher your to comes love\n",
      "My coneston mest and Tobout your diary.\n",
      "\n",
      "ANIO:\n",
      "And he cook's and prince and my \n",
      "\n",
      "[7m 46s (900 45%) 1.6983]\n",
      "Wher that sacch will mus\n",
      "I ly ney, dow,\n",
      "And and father untuch the here I come!\n",
      "Bitious mark my will th \n",
      "\n",
      "[8m 38s (1000 50%) 2.3851]\n",
      "Whashing amwiblens brows;\n",
      "Gure this he have faints,\n",
      "And now Ventlies rewissels, you, shall in chisher  \n",
      "\n",
      "[9m 31s (1100 55%) 2.1285]\n",
      "Why the come torantion, belsup.\n",
      "\n",
      "BATHARMIO:\n",
      "Our hence, best me, Ming ap tear.\n",
      "\n",
      "HERSTITA:\n",
      "\n",
      "ANETES:\n",
      "A st \n",
      "\n",
      "[10m 24s (1200 60%) 1.8822]\n",
      "Why sack thou his poin.\n",
      "\n",
      "KING RICHARD IV:\n",
      "Now bet this the parliant beguld that how man to peceetbed i \n",
      "\n",
      "[11m 18s (1300 65%) 1.9237]\n",
      "Whose shousess you beselong adach?\n",
      "\n",
      "JULIET:\n",
      "Nom the elllow the repeepen though hous shatland have that \n",
      "\n",
      "[12m 12s (1400 70%) 1.5006]\n",
      "Why sir, a what themy;\n",
      "More words, the for the thy fartes,\n",
      "To upon thy nor having am the would.\n",
      "\n",
      "CORIO \n",
      "\n",
      "[13m 5s (1500 75%) 1.8116]\n",
      "Whit, which my fretter'hant deving,\n",
      "And glange man? and his brother's to my with with him\n",
      "Auprow this  \n",
      "\n",
      "[13m 58s (1600 80%) 1.6858]\n",
      "What rear'd me herr my so\n",
      "tuel begrence of, not liventleserds, and me thou life our be's fare\n",
      "Beceephe \n",
      "\n",
      "[14m 51s (1700 85%) 1.5839]\n",
      "Why, I be must forther stand let the noble whothink?\n",
      "\n",
      "COMINIUS:\n",
      "We are sone, and see fills.\n",
      "\n",
      "LUCIO:\n",
      "S  \n",
      "\n",
      "[15m 44s (1800 90%) 1.7895]\n",
      "Wharmst seent\n",
      "And ell, empele this grow'd was whoned, good I hample's, wayses be prinio.\n",
      "\n",
      "PETRUCHIO:\n",
      "I \n",
      "\n",
      "[16m 36s (1900 95%) 1.7951]\n",
      "When, shown, arm him? O Nay, Vorries!\n",
      "\n",
      "KING HENRY DINA:\n",
      "That my when grost with word; there now, the v \n",
      "\n",
      "[17m 27s (2000 100%) 2.1954]\n",
      "Whey, seage fores not puest,\n",
      "Or entrant thincomones that corse.\n",
      "\n",
      "DUCHESS OF YORK:\n",
      "Let that make a and  \n",
      "\n"
     ]
    }
   ],
   "source": [
    "n_steps = 2000\n",
    "print_every = 100\n",
    "plot_every = 10\n",
    "hidden_size = 100\n",
    "embed_size = 50\n",
    "n_layers = 1\n",
    "lr = 0.005\n",
    "\n",
    "decoder = RNN(n_characters, embed_size, hidden_size, n_characters, n_layers)\n",
    "decoder_optimizer = torch.optim.Adam(decoder.parameters(), lr=lr)\n",
    "criterion = nn.CrossEntropyLoss() # so we don't need logsoftmax layer and NLLLoss\n",
    "\n",
    "start = time.time()\n",
    "all_losses = []\n",
    "loss_avg = 0\n",
    "\n",
    "for step in range(1, n_steps + 1):\n",
    "    loss = train(*random_training_set())       \n",
    "    loss_avg += loss\n",
    "\n",
    "    if step % print_every == 0:\n",
    "        print('[%s (%d %d%%) %.4f]' % (time_since(start), step, step / n_steps * 100, loss))\n",
    "        print(evaluate('Wh', 100), '\\n')\n",
    "\n",
    "    if step % plot_every == 0:\n",
    "        all_losses.append(loss_avg / plot_every)\n",
    "        loss_avg = 0\n",
    "\n",
    "# too slow, change to gpu?"
   ]
  },
  {
   "cell_type": "markdown",
   "metadata": {},
   "source": [
    "## Plotting the Training Losses\n",
    "Plotting the historical loss from all_losses shows the network learning:"
   ]
  },
  {
   "cell_type": "code",
   "execution_count": 10,
   "metadata": {},
   "outputs": [
    {
     "data": {
      "text/plain": [
       "[<matplotlib.lines.Line2D at 0x7fd4fb56eeb8>]"
      ]
     },
     "execution_count": 10,
     "metadata": {},
     "output_type": "execute_result"
    },
    {
     "data": {
      "image/png": "[encoded data removed]",
      "text/plain": [
       "<Figure size 432x288 with 1 Axes>"
      ]
     },
     "metadata": {},
     "output_type": "display_data"
    }
   ],
   "source": [
    "import matplotlib.pyplot as plt\n",
    "import matplotlib.ticker as ticker\n",
    "%matplotlib inline\n",
    "\n",
    "plt.figure()\n",
    "plt.plot(all_losses)"
   ]
  },
  {
   "cell_type": "markdown",
   "metadata": {},
   "source": [
    "## Evaluating at different \"temperatures\"\n",
    "In the evaluate function above, every time a prediction is made the outputs are divided by the \"temperature\" argument passed. Using a higher number makes all actions more equally likely, and thus gives us \"more random\" outputs. Using a lower value (less than 1) makes high probabilities contribute more. As we turn the temperature towards zero we are choosing only the most likely outputs.\n",
    "\n",
    "We can see the effects of this by adjusting the temperature argument."
   ]
  },
  {
   "cell_type": "code",
   "execution_count": 11,
   "metadata": {},
   "outputs": [
    {
     "name": "stdout",
     "output_type": "stream",
     "text": [
      "Thereastmen these by with I but, I'll case.\n",
      "I brow they speak the what I worth that.\n",
      "\n",
      "Thark:\n",
      "In the conllow, I for by please reasen\n",
      "porteel him chake they hand from anot treet are sand these conner:\n",
      "Sha\n"
     ]
    }
   ],
   "source": [
    "print(evaluate('Th', 200, temperature=0.8))"
   ]
  },
  {
   "cell_type": "code",
   "execution_count": 12,
   "metadata": {},
   "outputs": [
    {
     "name": "stdout",
     "output_type": "stream",
     "text": [
      "There speaken the seet the some the shall the shall the seet the shall the sut the should the seet\n",
      "The shall the should the seet the seet the stand,\n",
      "And the son the should the should the such the some t\n"
     ]
    }
   ],
   "source": [
    "print(evaluate('Th', 200, temperature=0.2))"
   ]
  },
  {
   "cell_type": "code",
   "execution_count": 13,
   "metadata": {},
   "outputs": [
    {
     "name": "stdout",
     "output_type": "stream",
     "text": [
      "There blusopen,\n",
      "Ten troubed to yoy, For\n",
      "Here time. O herconswelnuty I so; I wajin-wirnitly\n",
      "My hip son chreade me, sube.\n",
      "Whay, had I wild-fut not-\n",
      "Unot uply sutthan'sproutuner his trough thot\n",
      "us, all's f\n"
     ]
    }
   ],
   "source": [
    "print(evaluate('Th', 200, temperature=1.4))"
   ]
  }
 ],
 "metadata": {
  "kernelspec": {
   "display_name": "py36",
   "language": "python",
   "name": "py36"
  },
  "language_info": {
   "codemirror_mode": {
    "name": "ipython",
    "version": 3
   },
   "file_extension": ".py",
   "mimetype": "text/x-python",
   "name": "python",
   "nbconvert_exporter": "python",
   "pygments_lexer": "ipython3",
   "version": "3.6.5"
  }
 },
 "nbformat": 4,
 "nbformat_minor": 2
}
